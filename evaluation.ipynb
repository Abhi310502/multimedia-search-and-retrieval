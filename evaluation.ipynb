{
 "cells": [
  {
   "cell_type": "code",
   "execution_count": 1,
   "metadata": {},
   "outputs": [],
   "source": [
    "import pandas as pd\n",
    "import numpy as np\n",
    "from tqdm import tqdm\n",
    "from metrics import *\n",
    "from bert import *\n",
    "from tf_idf import * \n",
    "from random_sample import *"
   ]
  },
  {
   "cell_type": "code",
   "execution_count": 2,
   "metadata": {},
   "outputs": [],
   "source": [
    "infos = pd.read_csv(\"dataset/id_information_mmsr.tsv\", sep=\"\\t\")\n",
    "bert = pd.read_csv(\"dataset/id_lyrics_bert_mmsr.tsv\", sep=\"\\t\")\n",
    "tf_idf = pd.read_csv(\"dataset/id_lyrics_tf-idf_mmsr.tsv\", sep=\"\\t\")\n",
    "\n",
    "inter_true = np.loadtxt(\"./dataset/interaction_matrix.csv\", delimiter=\"\\t\")"
   ]
  },
  {
   "cell_type": "code",
   "execution_count": 3,
   "metadata": {},
   "outputs": [
    {
     "name": "stderr",
     "output_type": "stream",
     "text": [
      "100%|██████████| 3/3 [01:00<00:00, 20.20s/it]\n"
     ]
    }
   ],
   "source": [
    "models = [\"random_sample\", \"bert\", \"tf_idf\"]\n",
    "evaluation = []\n",
    "\n",
    "for model in tqdm(models):\n",
    "    inter_pred = np.loadtxt(f\"predictions/{model}.tsv\", delimiter=\"\\t\")\n",
    "    rat10 = recall_at_k(inter_pred, inter_true, 10)\n",
    "    pat10 = precision_at_k(inter_pred, inter_true, 10)\n",
    "    ndcgat10 = ndcg_at_k(inter_pred, inter_true, 10)\n",
    "    rat20 = recall_at_k(inter_pred, inter_true, 20)\n",
    "    pat20 = precision_at_k(inter_pred, inter_true, 20)\n",
    "    ndcgat20 = ndcg_at_k(inter_pred, inter_true, 20)\n",
    "    mean_rr = mrr(inter_pred, inter_true)\n",
    "\n",
    "    evaluation.append({\n",
    "        \"model\": model,\n",
    "        \"recall@10\": rat10,\n",
    "        \"precision@10\": pat10,\n",
    "        \"ndcg@10\": ndcgat10,\n",
    "        \"recall@20\": rat20,\n",
    "        \"precision@20\": pat20,\n",
    "        \"ndcg@20\": ndcgat20,\n",
    "        \"mrr\": mean_rr\n",
    "    })"
   ]
  },
  {
   "cell_type": "code",
   "execution_count": 4,
   "metadata": {},
   "outputs": [
    {
     "name": "stdout",
     "output_type": "stream",
     "text": [
      "(5148, 5148)\n"
     ]
    }
   ],
   "source": [
    "rat10 = recall_at_k(inter_true, inter_true, 5148)\n",
    "pat10 = precision_at_k(inter_true, inter_true, 10)\n",
    "ndcgat10 = ndcg_at_k(inter_true, inter_true, 10)\n",
    "rat20 = recall_at_k(inter_true, inter_true, 20)\n",
    "pat20 = precision_at_k(inter_true, inter_true, 20)\n",
    "ndcgat20 = ndcg_at_k(inter_true, inter_true, 20)\n",
    "mean_rr = mrr(inter_true, inter_true)\n",
    "\n",
    "print(inter_true.shape)\n",
    "\n",
    "evaluation.append({\n",
    "    \"model\": \"Baseline\",\n",
    "    \"recall@10\": rat10,\n",
    "    \"precision@10\": pat10,\n",
    "    \"ndcg@10\": ndcgat10,\n",
    "    \"recall@20\": rat20,\n",
    "    \"precision@20\": pat20,\n",
    "    \"ndcg@20\": ndcgat20,\n",
    "    \"mrr\": mean_rr\n",
    "})\n",
    "evaluation_df = pd.DataFrame(evaluation)"
   ]
  },
  {
   "cell_type": "code",
   "execution_count": 6,
   "metadata": {},
   "outputs": [
    {
     "data": {
      "text/html": [
       "<div>\n",
       "<style scoped>\n",
       "    .dataframe tbody tr th:only-of-type {\n",
       "        vertical-align: middle;\n",
       "    }\n",
       "\n",
       "    .dataframe tbody tr th {\n",
       "        vertical-align: top;\n",
       "    }\n",
       "\n",
       "    .dataframe thead th {\n",
       "        text-align: right;\n",
       "    }\n",
       "</style>\n",
       "<table border=\"1\" class=\"dataframe\">\n",
       "  <thead>\n",
       "    <tr style=\"text-align: right;\">\n",
       "      <th></th>\n",
       "      <th>model</th>\n",
       "      <th>recall@10</th>\n",
       "      <th>precision@10</th>\n",
       "      <th>ndcg@10</th>\n",
       "      <th>recall@20</th>\n",
       "      <th>precision@20</th>\n",
       "      <th>ndcg@20</th>\n",
       "      <th>mrr</th>\n",
       "    </tr>\n",
       "  </thead>\n",
       "  <tbody>\n",
       "    <tr>\n",
       "      <th>0</th>\n",
       "      <td>random_sample</td>\n",
       "      <td>0.001513</td>\n",
       "      <td>0.035004</td>\n",
       "      <td>0.035096</td>\n",
       "      <td>0.003341</td>\n",
       "      <td>0.038743</td>\n",
       "      <td>0.037729</td>\n",
       "      <td>0.001872</td>\n",
       "    </tr>\n",
       "    <tr>\n",
       "      <th>1</th>\n",
       "      <td>bert</td>\n",
       "      <td>0.001811</td>\n",
       "      <td>0.050155</td>\n",
       "      <td>0.053616</td>\n",
       "      <td>0.003445</td>\n",
       "      <td>0.041929</td>\n",
       "      <td>0.046551</td>\n",
       "      <td>0.002197</td>\n",
       "    </tr>\n",
       "    <tr>\n",
       "      <th>2</th>\n",
       "      <td>tf_idf</td>\n",
       "      <td>0.001810</td>\n",
       "      <td>0.050136</td>\n",
       "      <td>0.053602</td>\n",
       "      <td>0.003445</td>\n",
       "      <td>0.041929</td>\n",
       "      <td>0.046550</td>\n",
       "      <td>0.002197</td>\n",
       "    </tr>\n",
       "    <tr>\n",
       "      <th>3</th>\n",
       "      <td>Baseline</td>\n",
       "      <td>0.776224</td>\n",
       "      <td>0.748932</td>\n",
       "      <td>0.776224</td>\n",
       "      <td>0.248926</td>\n",
       "      <td>0.725554</td>\n",
       "      <td>0.776224</td>\n",
       "      <td>0.022961</td>\n",
       "    </tr>\n",
       "  </tbody>\n",
       "</table>\n",
       "</div>"
      ],
      "text/plain": [
       "           model  recall@10  precision@10   ndcg@10  recall@20  precision@20  \\\n",
       "0  random_sample   0.001513      0.035004  0.035096   0.003341      0.038743   \n",
       "1           bert   0.001811      0.050155  0.053616   0.003445      0.041929   \n",
       "2         tf_idf   0.001810      0.050136  0.053602   0.003445      0.041929   \n",
       "3       Baseline   0.776224      0.748932  0.776224   0.248926      0.725554   \n",
       "\n",
       "    ndcg@20       mrr  \n",
       "0  0.037729  0.001872  \n",
       "1  0.046551  0.002197  \n",
       "2  0.046550  0.002197  \n",
       "3  0.776224  0.022961  "
      ]
     },
     "execution_count": 6,
     "metadata": {},
     "output_type": "execute_result"
    }
   ],
   "source": [
    "evaluation_df"
   ]
  }
 ],
 "metadata": {
  "kernelspec": {
   "display_name": ".venv",
   "language": "python",
   "name": "python3"
  },
  "language_info": {
   "codemirror_mode": {
    "name": "ipython",
    "version": 3
   },
   "file_extension": ".py",
   "mimetype": "text/x-python",
   "name": "python",
   "nbconvert_exporter": "python",
   "pygments_lexer": "ipython3",
   "version": "3.12.4"
  }
 },
 "nbformat": 4,
 "nbformat_minor": 2
}
