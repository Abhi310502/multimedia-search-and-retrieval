{
 "cells": [
  {
   "cell_type": "code",
   "execution_count": null,
   "metadata": {},
   "outputs": [],
   "source": [
    "import pandas as pd\n",
    "import numpy as np\n",
    "from tqdm import tqdm\n",
    "import ast\n",
    "from metrics import *"
   ]
  },
  {
   "cell_type": "code",
   "execution_count": 2,
   "metadata": {},
   "outputs": [],
   "source": [
    "popularity_df = pd.read_csv(\"dataset/id_metadata_mmsr.tsv\", sep=\"\\t\")\n",
    "popularity = popularity_df['popularity'].values\n",
    "infos = pd.read_csv(\"dataset/id_information_mmsr.tsv\", sep=\"\\t\")\n",
    "inter_true = np.loadtxt(\"./predictions/binary_relevancy_matrix_00.csv\", delimiter=\"\\t\")\n",
    "tags = pd.read_csv(\"./dataset/id_tags_dict.tsv\", sep=\"\\t\")\n",
    "genres = pd.read_csv(\"./dataset/id_genres_mmsr.tsv\", sep=\"\\t\")"
   ]
  },
  {
   "cell_type": "code",
   "execution_count": null,
   "metadata": {},
   "outputs": [
    {
     "name": "stderr",
     "output_type": "stream",
     "text": [
      "100%|██████████| 4/4 [00:47<00:00, 12.00s/it]\n"
     ]
    }
   ],
   "source": [
    "models = [\"random\", \"bert\", \"tf_idf\", \"mfcc_bow\", \"mfcc_stats\"]\n",
    "evaluation = []\n",
    "\n",
    "for model in tqdm(models):\n",
    "    inter_pred = np.loadtxt(f\"predictions/recs_{model}_10.csv\", delimiter=\"\\t\")\n",
    "    pop_at_10 = avg_popularity_at_k(inter_pred, popularity, 10)\n",
    "    cov_at_10 = avg_coverage_at_k(inter_pred, inter_true.shape[0], 10)\n",
    "    ild_at_10 = intra_list_diversity_at_k(inter_pred, inter_true, 10)\n",
    "    nov_at_10 = novelty_at_k(inter_pred, popularity, 10)\n",
    "    div_at_10 = diversity_at_k(inter_pred, tags, genres, 10)\n",
    "\n",
    "    evaluation.append({\n",
    "        \"model\": model,\n",
    "        \"pop@10\": pop_at_10,\n",
    "        \"cov@10\": cov_at_10,\n",
    "        \"ild@10\": ild_at_10,\n",
    "        \"nov@10\": nov_at_10,\n",
    "        \"div@10\": div_at_10\n",
    "    })\n",
    "\n",
    "evaluation_df = pd.DataFrame(evaluation)"
   ]
  },
  {
   "cell_type": "code",
   "execution_count": 4,
   "metadata": {},
   "outputs": [
    {
     "data": {
      "text/html": [
       "<div>\n",
       "<style scoped>\n",
       "    .dataframe tbody tr th:only-of-type {\n",
       "        vertical-align: middle;\n",
       "    }\n",
       "\n",
       "    .dataframe tbody tr th {\n",
       "        vertical-align: top;\n",
       "    }\n",
       "\n",
       "    .dataframe thead th {\n",
       "        text-align: right;\n",
       "    }\n",
       "</style>\n",
       "<table border=\"1\" class=\"dataframe\">\n",
       "  <thead>\n",
       "    <tr style=\"text-align: right;\">\n",
       "      <th></th>\n",
       "      <th>model</th>\n",
       "      <th>pop@10</th>\n",
       "      <th>cov@10</th>\n",
       "      <th>ild@10</th>\n",
       "      <th>nov@10</th>\n",
       "      <th>div@10</th>\n",
       "    </tr>\n",
       "  </thead>\n",
       "  <tbody>\n",
       "    <tr>\n",
       "      <th>0</th>\n",
       "      <td>random</td>\n",
       "      <td>34.978050</td>\n",
       "      <td>0.999806</td>\n",
       "      <td>0.936674</td>\n",
       "      <td>-4.950177</td>\n",
       "      <td>29.046814</td>\n",
       "    </tr>\n",
       "    <tr>\n",
       "      <th>1</th>\n",
       "      <td>bert</td>\n",
       "      <td>37.322552</td>\n",
       "      <td>0.833139</td>\n",
       "      <td>0.875114</td>\n",
       "      <td>-5.068280</td>\n",
       "      <td>28.711344</td>\n",
       "    </tr>\n",
       "    <tr>\n",
       "      <th>2</th>\n",
       "      <td>tf_idf</td>\n",
       "      <td>36.128691</td>\n",
       "      <td>0.976496</td>\n",
       "      <td>0.904105</td>\n",
       "      <td>-5.003819</td>\n",
       "      <td>28.924437</td>\n",
       "    </tr>\n",
       "    <tr>\n",
       "      <th>3</th>\n",
       "      <td>mfcc</td>\n",
       "      <td>36.220513</td>\n",
       "      <td>0.865579</td>\n",
       "      <td>0.865303</td>\n",
       "      <td>-5.020059</td>\n",
       "      <td>28.408120</td>\n",
       "    </tr>\n",
       "  </tbody>\n",
       "</table>\n",
       "</div>"
      ],
      "text/plain": [
       "    model     pop@10    cov@10    ild@10    nov@10     div@10\n",
       "0  random  34.978050  0.999806  0.936674 -4.950177  29.046814\n",
       "1    bert  37.322552  0.833139  0.875114 -5.068280  28.711344\n",
       "2  tf_idf  36.128691  0.976496  0.904105 -5.003819  28.924437\n",
       "3    mfcc  36.220513  0.865579  0.865303 -5.020059  28.408120"
      ]
     },
     "execution_count": 4,
     "metadata": {},
     "output_type": "execute_result"
    }
   ],
   "source": [
    "evaluation_df"
   ]
  }
 ],
 "metadata": {
  "kernelspec": {
   "display_name": ".venv",
   "language": "python",
   "name": "python3"
  },
  "language_info": {
   "codemirror_mode": {
    "name": "ipython",
    "version": 3
   },
   "file_extension": ".py",
   "mimetype": "text/x-python",
   "name": "python",
   "nbconvert_exporter": "python",
   "pygments_lexer": "ipython3",
   "version": "3.12.4"
  }
 },
 "nbformat": 4,
 "nbformat_minor": 2
}
