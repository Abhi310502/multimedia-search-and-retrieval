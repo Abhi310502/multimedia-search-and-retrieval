{
 "cells": [
  {
   "cell_type": "code",
   "execution_count": 1,
   "metadata": {},
   "outputs": [],
   "source": [
    "import pandas as pd\n",
    "import numpy as np\n",
    "from tqdm import tqdm\n",
    "import ast"
   ]
  },
  {
   "cell_type": "code",
   "execution_count": 2,
   "metadata": {},
   "outputs": [
    {
     "data": {
      "text/plain": [
       "(5148, 2)"
      ]
     },
     "execution_count": 2,
     "metadata": {},
     "output_type": "execute_result"
    }
   ],
   "source": [
    "genres = pd.read_csv(\"./dataset/id_genres_mmsr.tsv\", sep=\"\\t\")\n",
    "infos = pd.read_csv(\"./dataset/id_information_mmsr.tsv\", sep=\"\\t\")\n",
    "genres.shape"
   ]
  },
  {
   "cell_type": "code",
   "execution_count": 3,
   "metadata": {},
   "outputs": [],
   "source": [
    "def random_sample(title, artist, topK=10):\n",
    "    idx_to_drop = infos[(infos['song'] == title) & (infos['artist'] == artist)].index\n",
    "    if len(idx_to_drop) == 0:\n",
    "        print(\"Song not found; returning just any random sample\")\n",
    "        return infos.sample(topK)\n",
    "    return infos.drop(idx_to_drop[0]).sample(topK)"
   ]
  },
  {
   "cell_type": "code",
   "execution_count": 9,
   "metadata": {},
   "outputs": [],
   "source": [
    "def get_max_scorers(sample, genre_list):\n",
    "    max_score = max(sample.values())\n",
    "\n",
    "    # Extract keys with the highest score\n",
    "    highest_scoring_genres = [genre for genre, score in sample.items() if score == max_score and genre in genre_list]\n",
    "    return highest_scoring_genres\n",
    "\n",
    "\n",
    "def create_interaction_matrix(df, genres, inter, num_rows):\n",
    "\n",
    "    # Cache genre lists for each ID to avoid repeating lookups\n",
    "    id_to_genres = genres.set_index('id')['genre'].to_dict()\n",
    "\n",
    "    # Loop through each pair (i, j) to populate the interaction matrix\n",
    "    for i in tqdm(range(num_rows)):\n",
    "        # Read the first row (i)\n",
    "        id_i = df.iloc[i]['id']\n",
    "        sample_i = ast.literal_eval(df.iloc[i]['(tag, weight)'])\n",
    "        genre_list_i = ast.literal_eval(id_to_genres.get(id_i, '[]'))  # Safely fetch genres for id_i\n",
    "        top_i = np.array(get_max_scorers(sample_i, genre_list_i))\n",
    "\n",
    "        for j in range(i + 1, num_rows):  # Only need to process pairs (i, j) with i < j\n",
    "            # Read the second row (j)\n",
    "            id_j = df.iloc[j]['id']\n",
    "            sample_j = ast.literal_eval(df.iloc[j]['(tag, weight)'])\n",
    "            genre_list_j = ast.literal_eval(id_to_genres.get(id_j, '[]'))  # Safely fetch genres for id_j\n",
    "            top_j = np.array(get_max_scorers(sample_j, genre_list_j))\n",
    "\n",
    "            # Calculate intersection of top genres\n",
    "            intersection = np.intersect1d(top_i, top_j)\n",
    "            is_interaction = 1 if len(intersection) > 0 else 0\n",
    "\n",
    "            # Update the interaction matrix symmetrically\n",
    "            inter[i][j] = inter[j][i] = is_interaction\n"
   ]
  },
  {
   "cell_type": "code",
   "execution_count": 10,
   "metadata": {},
   "outputs": [
    {
     "name": "stderr",
     "output_type": "stream",
     "text": [
      "100%|██████████| 5148/5148 [1:01:37<00:00,  1.39it/s]\n"
     ]
    }
   ],
   "source": [
    "\n",
    "# Read the datasets once\n",
    "df = pd.read_csv(\"./dataset/id_tags_dict.tsv\", sep=\"\\t\")\n",
    "genres = pd.read_csv(\"./dataset/id_genres_mmsr.tsv\", sep=\"\\t\")\n",
    "\n",
    "# Initialize the interaction matrix\n",
    "num_rows = len(df)\n",
    "inter = np.zeros((num_rows, num_rows))\n",
    "\n",
    "create_interaction_matrix(df, genres, inter, num_rows)"
   ]
  },
  {
   "cell_type": "code",
   "execution_count": 16,
   "metadata": {},
   "outputs": [],
   "source": [
    "np.savetxt(\"./dataset/interaction_matrix.csv\", inter, delimiter=\"\\t\")"
   ]
  },
  {
   "cell_type": "code",
   "execution_count": 11,
   "metadata": {},
   "outputs": [
    {
     "name": "stdout",
     "output_type": "stream",
     "text": [
      "Song not found; returning just any random sample\n",
      "                 artist                    song  \\\n",
      "1646  Angels & Airwaves            Young London   \n",
      "4286     Jennifer Lopez              Do It Well   \n",
      "387      Sunrise Avenue  Somebody Will Find You   \n",
      "3614          Powerwolf          Saturday Satan   \n",
      "4878        The Rapture         Never Die Again   \n",
      "3993         Deafheaven                    Luna   \n",
      "2958        Post Malone                    Stay   \n",
      "2163      Azealia Banks          Skylar Diggins   \n",
      "1853    Electric Wizard         Electric Wizard   \n",
      "3500           Converge            On My Shield   \n",
      "\n",
      "                                        album_name  \n",
      "1646                               Love, Pt. 1 & 2  \n",
      "4286                                         Brave  \n",
      "387                             Acoustic Tour 2010  \n",
      "3614                                     Lupus Dei  \n",
      "4878                     In the Grace of Your Love  \n",
      "3993                                   New Bermuda  \n",
      "2958                          beerbongs & bentleys  \n",
      "2163                                        Slay-Z  \n",
      "1853                                    Dopethrone  \n",
      "3500  All We Love We Leave Behind (Deluxe Edition)  \n"
     ]
    }
   ],
   "source": [
    "song_title = \"\"\n",
    "song_artist = \"\"\n",
    "length = 5148\n",
    "\n",
    "randomTopK = random_sample(song_title, song_artist, topK=10)\n",
    "print(randomTopK.drop(columns=['id']))"
   ]
  },
  {
   "cell_type": "code",
   "execution_count": null,
   "metadata": {},
   "outputs": [
    {
     "data": {
      "text/plain": [
       "array([[0., 0., 0., ..., 1., 0., 0.],\n",
       "       [0., 0., 0., ..., 0., 0., 0.],\n",
       "       [0., 0., 0., ..., 0., 0., 0.],\n",
       "       ...,\n",
       "       [1., 0., 0., ..., 0., 0., 0.],\n",
       "       [0., 0., 0., ..., 0., 0., 0.],\n",
       "       [0., 0., 0., ..., 0., 0., 0.]])"
      ]
     },
     "execution_count": 12,
     "metadata": {},
     "output_type": "execute_result"
    }
   ],
   "source": [
    "ndcg_at_k(inter, length, 10)"
   ]
  }
 ],
 "metadata": {
  "kernelspec": {
   "display_name": ".venv",
   "language": "python",
   "name": "python3"
  },
  "language_info": {
   "codemirror_mode": {
    "name": "ipython",
    "version": 3
   },
   "file_extension": ".py",
   "mimetype": "text/x-python",
   "name": "python",
   "nbconvert_exporter": "python",
   "pygments_lexer": "ipython3",
   "version": "3.12.4"
  }
 },
 "nbformat": 4,
 "nbformat_minor": 2
}
