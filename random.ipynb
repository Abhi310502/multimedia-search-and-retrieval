{
 "cells": [
  {
   "cell_type": "code",
   "execution_count": 1,
   "metadata": {},
   "outputs": [],
   "source": [
    "import pandas as pd\n",
    "import numpy as np\n",
    "from tqdm import tqdm\n",
    "import ast"
   ]
  },
  {
   "cell_type": "code",
   "execution_count": 2,
   "metadata": {},
   "outputs": [
    {
     "data": {
      "text/plain": [
       "(5148, 2)"
      ]
     },
     "execution_count": 2,
     "metadata": {},
     "output_type": "execute_result"
    }
   ],
   "source": [
    "genres = pd.read_csv(\"./dataset/id_genres_mmsr.tsv\", sep=\"\\t\")\n",
    "infos = pd.read_csv(\"./dataset/id_information_mmsr.tsv\", sep=\"\\t\")\n",
    "genres.shape"
   ]
  },
  {
   "cell_type": "code",
   "execution_count": 3,
   "metadata": {},
   "outputs": [],
   "source": [
    "def random_sample(title, artist, topK=10):\n",
    "    idx_to_drop = infos[(infos['song'] == title) & (infos['artist'] == artist)].index\n",
    "    if len(idx_to_drop) == 0:\n",
    "        print(\"Song not found; returning just any random sample\")\n",
    "        return infos.sample(topK)\n",
    "    return infos.drop(idx_to_drop[0]).sample(topK)"
   ]
  },
  {
   "cell_type": "code",
   "execution_count": 4,
   "metadata": {},
   "outputs": [],
   "source": [
    "def get_max_scorers(sample, genre_list):\n",
    "    max_score = max(sample.values())\n",
    "\n",
    "    # Extract keys with the highest score\n",
    "    highest_scoring_genres = [genre for genre, score in sample.items() if score == max_score and genre in genre_list]\n",
    "    return highest_scoring_genres\n",
    "\n",
    "\n",
    "def create_interaction_matrix(df, genres, inter, num_rows):\n",
    "\n",
    "    # Cache genre lists for each ID to avoid repeating lookups\n",
    "    id_to_genres = genres.set_index('id')['genre'].to_dict()\n",
    "\n",
    "    # Loop through each pair (i, j) to populate the interaction matrix\n",
    "    for i in tqdm(range(num_rows)):\n",
    "        # Read the first row (i)\n",
    "        id_i = df.iloc[i]['id']\n",
    "        sample_i = ast.literal_eval(df.iloc[i]['(tag, weight)'])\n",
    "        genre_list_i = ast.literal_eval(id_to_genres.get(id_i, '[]'))  # Safely fetch genres for id_i\n",
    "        top_i = np.array(get_max_scorers(sample_i, genre_list_i))\n",
    "\n",
    "        for j in range(i + 1, num_rows):  # Only need to process pairs (i, j) with i < j\n",
    "            # Read the second row (j)\n",
    "            id_j = df.iloc[j]['id']\n",
    "            sample_j = ast.literal_eval(df.iloc[j]['(tag, weight)'])\n",
    "            genre_list_j = ast.literal_eval(id_to_genres.get(id_j, '[]'))  # Safely fetch genres for id_j\n",
    "            top_j = np.array(get_max_scorers(sample_j, genre_list_j))\n",
    "\n",
    "            # Calculate intersection of top genres\n",
    "            intersection = np.intersect1d(top_i, top_j)\n",
    "            is_interaction = 1 if len(intersection) > 0 else 0\n",
    "\n",
    "            # Update the interaction matrix symmetrically\n",
    "            inter[i][j] = inter[j][i] = is_interaction\n"
   ]
  },
  {
   "cell_type": "code",
   "execution_count": 5,
   "metadata": {},
   "outputs": [
    {
     "name": "stderr",
     "output_type": "stream",
     "text": [
      "  0%|          | 16/5148 [00:25<2:17:54,  1.61s/it]\n"
     ]
    },
    {
     "ename": "KeyboardInterrupt",
     "evalue": "",
     "output_type": "error",
     "traceback": [
      "\u001b[1;31m---------------------------------------------------------------------------\u001b[0m",
      "\u001b[1;31mKeyboardInterrupt\u001b[0m                         Traceback (most recent call last)",
      "Cell \u001b[1;32mIn[5], line 9\u001b[0m\n\u001b[0;32m      6\u001b[0m num_rows \u001b[38;5;241m=\u001b[39m \u001b[38;5;28mlen\u001b[39m(df)\n\u001b[0;32m      7\u001b[0m inter \u001b[38;5;241m=\u001b[39m np\u001b[38;5;241m.\u001b[39mzeros((num_rows, num_rows))\n\u001b[1;32m----> 9\u001b[0m \u001b[43mcreate_interaction_matrix\u001b[49m\u001b[43m(\u001b[49m\u001b[43mdf\u001b[49m\u001b[43m,\u001b[49m\u001b[43m \u001b[49m\u001b[43mgenres\u001b[49m\u001b[43m,\u001b[49m\u001b[43m \u001b[49m\u001b[43minter\u001b[49m\u001b[43m,\u001b[49m\u001b[43m \u001b[49m\u001b[43mnum_rows\u001b[49m\u001b[43m)\u001b[49m\n",
      "Cell \u001b[1;32mIn[4], line 30\u001b[0m, in \u001b[0;36mcreate_interaction_matrix\u001b[1;34m(df, genres, inter, num_rows)\u001b[0m\n\u001b[0;32m     27\u001b[0m top_j \u001b[38;5;241m=\u001b[39m np\u001b[38;5;241m.\u001b[39marray(get_max_scorers(sample_j, genre_list_j))\n\u001b[0;32m     29\u001b[0m \u001b[38;5;66;03m# Calculate intersection of top genres\u001b[39;00m\n\u001b[1;32m---> 30\u001b[0m intersection \u001b[38;5;241m=\u001b[39m \u001b[43mnp\u001b[49m\u001b[38;5;241;43m.\u001b[39;49m\u001b[43mintersect1d\u001b[49m\u001b[43m(\u001b[49m\u001b[43mtop_i\u001b[49m\u001b[43m,\u001b[49m\u001b[43m \u001b[49m\u001b[43mtop_j\u001b[49m\u001b[43m)\u001b[49m\n\u001b[0;32m     31\u001b[0m is_interaction \u001b[38;5;241m=\u001b[39m \u001b[38;5;241m1\u001b[39m \u001b[38;5;28;01mif\u001b[39;00m \u001b[38;5;28mlen\u001b[39m(intersection) \u001b[38;5;241m>\u001b[39m \u001b[38;5;241m0\u001b[39m \u001b[38;5;28;01melse\u001b[39;00m \u001b[38;5;241m0\u001b[39m\n\u001b[0;32m     33\u001b[0m \u001b[38;5;66;03m# Update the interaction matrix symmetrically\u001b[39;00m\n",
      "File \u001b[1;32mc:\\Users\\Justin\\Documents\\JKU\\2024WS\\multimedia-search-and-retrieval\\.venv\\Lib\\site-packages\\numpy\\lib\\_arraysetops_impl.py:691\u001b[0m, in \u001b[0;36mintersect1d\u001b[1;34m(ar1, ar2, assume_unique, return_indices)\u001b[0m\n\u001b[0;32m    689\u001b[0m     aux \u001b[38;5;241m=\u001b[39m aux[aux_sort_indices]\n\u001b[0;32m    690\u001b[0m \u001b[38;5;28;01melse\u001b[39;00m:\n\u001b[1;32m--> 691\u001b[0m     \u001b[43maux\u001b[49m\u001b[38;5;241;43m.\u001b[39;49m\u001b[43msort\u001b[49m\u001b[43m(\u001b[49m\u001b[43m)\u001b[49m\n\u001b[0;32m    693\u001b[0m mask \u001b[38;5;241m=\u001b[39m aux[\u001b[38;5;241m1\u001b[39m:] \u001b[38;5;241m==\u001b[39m aux[:\u001b[38;5;241m-\u001b[39m\u001b[38;5;241m1\u001b[39m]\n\u001b[0;32m    694\u001b[0m int1d \u001b[38;5;241m=\u001b[39m aux[:\u001b[38;5;241m-\u001b[39m\u001b[38;5;241m1\u001b[39m][mask]\n",
      "\u001b[1;31mKeyboardInterrupt\u001b[0m: "
     ]
    }
   ],
   "source": [
    "\n",
    "# Read the datasets once\n",
    "df = pd.read_csv(\"./dataset/id_tags_dict.tsv\", sep=\"\\t\")\n",
    "genres = pd.read_csv(\"./dataset/id_genres_mmsr.tsv\", sep=\"\\t\")\n",
    "\n",
    "# Initialize the interaction matrix\n",
    "num_rows = len(df)\n",
    "inter = np.zeros((num_rows, num_rows))\n",
    "\n",
    "create_interaction_matrix(df, genres, inter, num_rows)"
   ]
  },
  {
   "cell_type": "code",
   "execution_count": null,
   "metadata": {},
   "outputs": [],
   "source": [
    "np.savetxt(\"./dataset/interaction_matrix.csv\", inter, delimiter=\"\\t\")"
   ]
  },
  {
   "cell_type": "code",
   "execution_count": null,
   "metadata": {},
   "outputs": [
    {
     "name": "stdout",
     "output_type": "stream",
     "text": [
      "Song not found; returning just any random sample\n",
      "                 artist                    song  \\\n",
      "1646  Angels & Airwaves            Young London   \n",
      "4286     Jennifer Lopez              Do It Well   \n",
      "387      Sunrise Avenue  Somebody Will Find You   \n",
      "3614          Powerwolf          Saturday Satan   \n",
      "4878        The Rapture         Never Die Again   \n",
      "3993         Deafheaven                    Luna   \n",
      "2958        Post Malone                    Stay   \n",
      "2163      Azealia Banks          Skylar Diggins   \n",
      "1853    Electric Wizard         Electric Wizard   \n",
      "3500           Converge            On My Shield   \n",
      "\n",
      "                                        album_name  \n",
      "1646                               Love, Pt. 1 & 2  \n",
      "4286                                         Brave  \n",
      "387                             Acoustic Tour 2010  \n",
      "3614                                     Lupus Dei  \n",
      "4878                     In the Grace of Your Love  \n",
      "3993                                   New Bermuda  \n",
      "2958                          beerbongs & bentleys  \n",
      "2163                                        Slay-Z  \n",
      "1853                                    Dopethrone  \n",
      "3500  All We Love We Leave Behind (Deluxe Edition)  \n"
     ]
    }
   ],
   "source": [
    "song_title = \"\"\n",
    "song_artist = \"\"\n",
    "length = 5148\n",
    "\n",
    "randomTopK = random_sample(song_title, song_artist, topK=10)\n",
    "print(randomTopK.drop(columns=['id']))"
   ]
  },
  {
   "cell_type": "code",
   "execution_count": null,
   "metadata": {},
   "outputs": [
    {
     "data": {
      "text/plain": [
       "array([[0., 0., 0., ..., 1., 0., 0.],\n",
       "       [0., 0., 0., ..., 0., 0., 0.],\n",
       "       [0., 0., 0., ..., 0., 0., 0.],\n",
       "       ...,\n",
       "       [1., 0., 0., ..., 0., 0., 0.],\n",
       "       [0., 0., 0., ..., 0., 0., 0.],\n",
       "       [0., 0., 0., ..., 0., 0., 0.]])"
      ]
     },
     "execution_count": 12,
     "metadata": {},
     "output_type": "execute_result"
    }
   ],
   "source": [
    "ndcg_at_k(inter, length, 10)"
   ]
  }
 ],
 "metadata": {
  "kernelspec": {
   "display_name": ".venv",
   "language": "python",
   "name": "python3"
  },
  "language_info": {
   "codemirror_mode": {
    "name": "ipython",
    "version": 3
   },
   "file_extension": ".py",
   "mimetype": "text/x-python",
   "name": "python",
   "nbconvert_exporter": "python",
   "pygments_lexer": "ipython3",
   "version": "3.12.4"
  }
 },
 "nbformat": 4,
 "nbformat_minor": 2
}
